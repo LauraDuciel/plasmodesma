{
 "cells": [
  {
   "cell_type": "markdown",
   "metadata": {
    "ExecuteTime": {
     "end_time": "2018-11-12T09:35:10.491559Z",
     "start_time": "2018-11-12T09:35:10.489609Z"
    }
   },
   "source": [
    "### BOKEH APP IN JUPYTER-NOTEBOOK FOR PLASMODESMA VISUALIZATION"
   ]
  },
  {
   "cell_type": "code",
   "execution_count": 1,
   "metadata": {
    "ExecuteTime": {
     "end_time": "2018-11-28T13:31:08.679921Z",
     "start_time": "2018-11-28T13:31:04.329540Z"
    }
   },
   "outputs": [
    {
     "data": {
      "text/html": [
       "\n",
       "    <div class=\"bk-root\">\n",
       "        <a href=\"https://bokeh.pydata.org\" target=\"_blank\" class=\"bk-logo bk-logo-small bk-logo-notebook\"></a>\n",
       "        <span id=\"dadd0f3c-c7f9-46be-a24a-835084732eda\">Loading BokehJS ...</span>\n",
       "    </div>"
      ]
     },
     "metadata": {},
     "output_type": "display_data"
    },
    {
     "data": {
      "application/javascript": [
       "\n",
       "(function(root) {\n",
       "  function now() {\n",
       "    return new Date();\n",
       "  }\n",
       "\n",
       "  var force = true;\n",
       "\n",
       "  if (typeof (root._bokeh_onload_callbacks) === \"undefined\" || force === true) {\n",
       "    root._bokeh_onload_callbacks = [];\n",
       "    root._bokeh_is_loading = undefined;\n",
       "  }\n",
       "\n",
       "  var JS_MIME_TYPE = 'application/javascript';\n",
       "  var HTML_MIME_TYPE = 'text/html';\n",
       "  var EXEC_MIME_TYPE = 'application/vnd.bokehjs_exec.v0+json';\n",
       "  var CLASS_NAME = 'output_bokeh rendered_html';\n",
       "\n",
       "  /**\n",
       "   * Render data to the DOM node\n",
       "   */\n",
       "  function render(props, node) {\n",
       "    var script = document.createElement(\"script\");\n",
       "    node.appendChild(script);\n",
       "  }\n",
       "\n",
       "  /**\n",
       "   * Handle when an output is cleared or removed\n",
       "   */\n",
       "  function handleClearOutput(event, handle) {\n",
       "    var cell = handle.cell;\n",
       "\n",
       "    var id = cell.output_area._bokeh_element_id;\n",
       "    var server_id = cell.output_area._bokeh_server_id;\n",
       "    // Clean up Bokeh references\n",
       "    if (id !== undefined) {\n",
       "      Bokeh.index[id].model.document.clear();\n",
       "      delete Bokeh.index[id];\n",
       "    }\n",
       "\n",
       "    if (server_id !== undefined) {\n",
       "      // Clean up Bokeh references\n",
       "      var cmd = \"from bokeh.io.state import curstate; print(curstate().uuid_to_server['\" + server_id + \"'].get_sessions()[0].document.roots[0]._id)\";\n",
       "      cell.notebook.kernel.execute(cmd, {\n",
       "        iopub: {\n",
       "          output: function(msg) {\n",
       "            var element_id = msg.content.text.trim();\n",
       "            Bokeh.index[element_id].model.document.clear();\n",
       "            delete Bokeh.index[element_id];\n",
       "          }\n",
       "        }\n",
       "      });\n",
       "      // Destroy server and session\n",
       "      var cmd = \"import bokeh.io.notebook as ion; ion.destroy_server('\" + server_id + \"')\";\n",
       "      cell.notebook.kernel.execute(cmd);\n",
       "    }\n",
       "  }\n",
       "\n",
       "  /**\n",
       "   * Handle when a new output is added\n",
       "   */\n",
       "  function handleAddOutput(event, handle) {\n",
       "    var output_area = handle.output_area;\n",
       "    var output = handle.output;\n",
       "\n",
       "    // limit handleAddOutput to display_data with EXEC_MIME_TYPE content only\n",
       "    if ((output.output_type != \"display_data\") || (!output.data.hasOwnProperty(EXEC_MIME_TYPE))) {\n",
       "      return\n",
       "    }\n",
       "\n",
       "    var toinsert = output_area.element.find(\".\" + CLASS_NAME.split(' ')[0]);\n",
       "\n",
       "    if (output.metadata[EXEC_MIME_TYPE][\"id\"] !== undefined) {\n",
       "      toinsert[0].firstChild.textContent = output.data[JS_MIME_TYPE];\n",
       "      // store reference to embed id on output_area\n",
       "      output_area._bokeh_element_id = output.metadata[EXEC_MIME_TYPE][\"id\"];\n",
       "    }\n",
       "    if (output.metadata[EXEC_MIME_TYPE][\"server_id\"] !== undefined) {\n",
       "      var bk_div = document.createElement(\"div\");\n",
       "      bk_div.innerHTML = output.data[HTML_MIME_TYPE];\n",
       "      var script_attrs = bk_div.children[0].attributes;\n",
       "      for (var i = 0; i < script_attrs.length; i++) {\n",
       "        toinsert[0].firstChild.setAttribute(script_attrs[i].name, script_attrs[i].value);\n",
       "      }\n",
       "      // store reference to server id on output_area\n",
       "      output_area._bokeh_server_id = output.metadata[EXEC_MIME_TYPE][\"server_id\"];\n",
       "    }\n",
       "  }\n",
       "\n",
       "  function register_renderer(events, OutputArea) {\n",
       "\n",
       "    function append_mime(data, metadata, element) {\n",
       "      // create a DOM node to render to\n",
       "      var toinsert = this.create_output_subarea(\n",
       "        metadata,\n",
       "        CLASS_NAME,\n",
       "        EXEC_MIME_TYPE\n",
       "      );\n",
       "      this.keyboard_manager.register_events(toinsert);\n",
       "      // Render to node\n",
       "      var props = {data: data, metadata: metadata[EXEC_MIME_TYPE]};\n",
       "      render(props, toinsert[0]);\n",
       "      element.append(toinsert);\n",
       "      return toinsert\n",
       "    }\n",
       "\n",
       "    /* Handle when an output is cleared or removed */\n",
       "    events.on('clear_output.CodeCell', handleClearOutput);\n",
       "    events.on('delete.Cell', handleClearOutput);\n",
       "\n",
       "    /* Handle when a new output is added */\n",
       "    events.on('output_added.OutputArea', handleAddOutput);\n",
       "\n",
       "    /**\n",
       "     * Register the mime type and append_mime function with output_area\n",
       "     */\n",
       "    OutputArea.prototype.register_mime_type(EXEC_MIME_TYPE, append_mime, {\n",
       "      /* Is output safe? */\n",
       "      safe: true,\n",
       "      /* Index of renderer in `output_area.display_order` */\n",
       "      index: 0\n",
       "    });\n",
       "  }\n",
       "\n",
       "  // register the mime type if in Jupyter Notebook environment and previously unregistered\n",
       "  if (root.Jupyter !== undefined) {\n",
       "    var events = require('base/js/events');\n",
       "    var OutputArea = require('notebook/js/outputarea').OutputArea;\n",
       "\n",
       "    if (OutputArea.prototype.mime_types().indexOf(EXEC_MIME_TYPE) == -1) {\n",
       "      register_renderer(events, OutputArea);\n",
       "    }\n",
       "  }\n",
       "\n",
       "  \n",
       "  if (typeof (root._bokeh_timeout) === \"undefined\" || force === true) {\n",
       "    root._bokeh_timeout = Date.now() + 5000;\n",
       "    root._bokeh_failed_load = false;\n",
       "  }\n",
       "\n",
       "  var NB_LOAD_WARNING = {'data': {'text/html':\n",
       "     \"<div style='background-color: #fdd'>\\n\"+\n",
       "     \"<p>\\n\"+\n",
       "     \"BokehJS does not appear to have successfully loaded. If loading BokehJS from CDN, this \\n\"+\n",
       "     \"may be due to a slow or bad network connection. Possible fixes:\\n\"+\n",
       "     \"</p>\\n\"+\n",
       "     \"<ul>\\n\"+\n",
       "     \"<li>re-rerun `output_notebook()` to attempt to load from CDN again, or</li>\\n\"+\n",
       "     \"<li>use INLINE resources instead, as so:</li>\\n\"+\n",
       "     \"</ul>\\n\"+\n",
       "     \"<code>\\n\"+\n",
       "     \"from bokeh.resources import INLINE\\n\"+\n",
       "     \"output_notebook(resources=INLINE)\\n\"+\n",
       "     \"</code>\\n\"+\n",
       "     \"</div>\"}};\n",
       "\n",
       "  function display_loaded() {\n",
       "    var el = document.getElementById(\"dadd0f3c-c7f9-46be-a24a-835084732eda\");\n",
       "    if (el != null) {\n",
       "      el.textContent = \"BokehJS is loading...\";\n",
       "    }\n",
       "    if (root.Bokeh !== undefined) {\n",
       "      if (el != null) {\n",
       "        el.textContent = \"BokehJS \" + root.Bokeh.version + \" successfully loaded.\";\n",
       "      }\n",
       "    } else if (Date.now() < root._bokeh_timeout) {\n",
       "      setTimeout(display_loaded, 100)\n",
       "    }\n",
       "  }\n",
       "\n",
       "\n",
       "  function run_callbacks() {\n",
       "    try {\n",
       "      root._bokeh_onload_callbacks.forEach(function(callback) { callback() });\n",
       "    }\n",
       "    finally {\n",
       "      delete root._bokeh_onload_callbacks\n",
       "    }\n",
       "    console.info(\"Bokeh: all callbacks have finished\");\n",
       "  }\n",
       "\n",
       "  function load_libs(js_urls, callback) {\n",
       "    root._bokeh_onload_callbacks.push(callback);\n",
       "    if (root._bokeh_is_loading > 0) {\n",
       "      console.log(\"Bokeh: BokehJS is being loaded, scheduling callback at\", now());\n",
       "      return null;\n",
       "    }\n",
       "    if (js_urls == null || js_urls.length === 0) {\n",
       "      run_callbacks();\n",
       "      return null;\n",
       "    }\n",
       "    console.log(\"Bokeh: BokehJS not loaded, scheduling load and callback at\", now());\n",
       "    root._bokeh_is_loading = js_urls.length;\n",
       "    for (var i = 0; i < js_urls.length; i++) {\n",
       "      var url = js_urls[i];\n",
       "      var s = document.createElement('script');\n",
       "      s.src = url;\n",
       "      s.async = false;\n",
       "      s.onreadystatechange = s.onload = function() {\n",
       "        root._bokeh_is_loading--;\n",
       "        if (root._bokeh_is_loading === 0) {\n",
       "          console.log(\"Bokeh: all BokehJS libraries loaded\");\n",
       "          run_callbacks()\n",
       "        }\n",
       "      };\n",
       "      s.onerror = function() {\n",
       "        console.warn(\"failed to load library \" + url);\n",
       "      };\n",
       "      console.log(\"Bokeh: injecting script tag for BokehJS library: \", url);\n",
       "      document.getElementsByTagName(\"head\")[0].appendChild(s);\n",
       "    }\n",
       "  };var element = document.getElementById(\"dadd0f3c-c7f9-46be-a24a-835084732eda\");\n",
       "  if (element == null) {\n",
       "    console.log(\"Bokeh: ERROR: autoload.js configured with elementid 'dadd0f3c-c7f9-46be-a24a-835084732eda' but no matching script tag was found. \")\n",
       "    return false;\n",
       "  }\n",
       "\n",
       "  var js_urls = [\"https://cdn.pydata.org/bokeh/release/bokeh-0.12.13.min.js\", \"https://cdn.pydata.org/bokeh/release/bokeh-widgets-0.12.13.min.js\", \"https://cdn.pydata.org/bokeh/release/bokeh-tables-0.12.13.min.js\", \"https://cdn.pydata.org/bokeh/release/bokeh-gl-0.12.13.min.js\"];\n",
       "\n",
       "  var inline_js = [\n",
       "    function(Bokeh) {\n",
       "      Bokeh.set_log_level(\"info\");\n",
       "    },\n",
       "    \n",
       "    function(Bokeh) {\n",
       "      \n",
       "    },\n",
       "    function(Bokeh) {\n",
       "      console.log(\"Bokeh: injecting CSS: https://cdn.pydata.org/bokeh/release/bokeh-0.12.13.min.css\");\n",
       "      Bokeh.embed.inject_css(\"https://cdn.pydata.org/bokeh/release/bokeh-0.12.13.min.css\");\n",
       "      console.log(\"Bokeh: injecting CSS: https://cdn.pydata.org/bokeh/release/bokeh-widgets-0.12.13.min.css\");\n",
       "      Bokeh.embed.inject_css(\"https://cdn.pydata.org/bokeh/release/bokeh-widgets-0.12.13.min.css\");\n",
       "      console.log(\"Bokeh: injecting CSS: https://cdn.pydata.org/bokeh/release/bokeh-tables-0.12.13.min.css\");\n",
       "      Bokeh.embed.inject_css(\"https://cdn.pydata.org/bokeh/release/bokeh-tables-0.12.13.min.css\");\n",
       "    }\n",
       "  ];\n",
       "\n",
       "  function run_inline_js() {\n",
       "    \n",
       "    if ((root.Bokeh !== undefined) || (force === true)) {\n",
       "      for (var i = 0; i < inline_js.length; i++) {\n",
       "        inline_js[i].call(root, root.Bokeh);\n",
       "      }if (force === true) {\n",
       "        display_loaded();\n",
       "      }} else if (Date.now() < root._bokeh_timeout) {\n",
       "      setTimeout(run_inline_js, 100);\n",
       "    } else if (!root._bokeh_failed_load) {\n",
       "      console.log(\"Bokeh: BokehJS failed to load within specified timeout.\");\n",
       "      root._bokeh_failed_load = true;\n",
       "    } else if (force !== true) {\n",
       "      var cell = $(document.getElementById(\"dadd0f3c-c7f9-46be-a24a-835084732eda\")).parents('.cell').data().cell;\n",
       "      cell.output_area.append_execute_result(NB_LOAD_WARNING)\n",
       "    }\n",
       "\n",
       "  }\n",
       "\n",
       "  if (root._bokeh_is_loading === 0) {\n",
       "    console.log(\"Bokeh: BokehJS loaded, going straight to plotting\");\n",
       "    run_inline_js();\n",
       "  } else {\n",
       "    load_libs(js_urls, function() {\n",
       "      console.log(\"Bokeh: BokehJS plotting callback run at\", now());\n",
       "      run_inline_js();\n",
       "    });\n",
       "  }\n",
       "}(window));"
      ],
      "application/vnd.bokehjs_load.v0+json": "\n(function(root) {\n  function now() {\n    return new Date();\n  }\n\n  var force = true;\n\n  if (typeof (root._bokeh_onload_callbacks) === \"undefined\" || force === true) {\n    root._bokeh_onload_callbacks = [];\n    root._bokeh_is_loading = undefined;\n  }\n\n  \n\n  \n  if (typeof (root._bokeh_timeout) === \"undefined\" || force === true) {\n    root._bokeh_timeout = Date.now() + 5000;\n    root._bokeh_failed_load = false;\n  }\n\n  var NB_LOAD_WARNING = {'data': {'text/html':\n     \"<div style='background-color: #fdd'>\\n\"+\n     \"<p>\\n\"+\n     \"BokehJS does not appear to have successfully loaded. If loading BokehJS from CDN, this \\n\"+\n     \"may be due to a slow or bad network connection. Possible fixes:\\n\"+\n     \"</p>\\n\"+\n     \"<ul>\\n\"+\n     \"<li>re-rerun `output_notebook()` to attempt to load from CDN again, or</li>\\n\"+\n     \"<li>use INLINE resources instead, as so:</li>\\n\"+\n     \"</ul>\\n\"+\n     \"<code>\\n\"+\n     \"from bokeh.resources import INLINE\\n\"+\n     \"output_notebook(resources=INLINE)\\n\"+\n     \"</code>\\n\"+\n     \"</div>\"}};\n\n  function display_loaded() {\n    var el = document.getElementById(\"dadd0f3c-c7f9-46be-a24a-835084732eda\");\n    if (el != null) {\n      el.textContent = \"BokehJS is loading...\";\n    }\n    if (root.Bokeh !== undefined) {\n      if (el != null) {\n        el.textContent = \"BokehJS \" + root.Bokeh.version + \" successfully loaded.\";\n      }\n    } else if (Date.now() < root._bokeh_timeout) {\n      setTimeout(display_loaded, 100)\n    }\n  }\n\n\n  function run_callbacks() {\n    try {\n      root._bokeh_onload_callbacks.forEach(function(callback) { callback() });\n    }\n    finally {\n      delete root._bokeh_onload_callbacks\n    }\n    console.info(\"Bokeh: all callbacks have finished\");\n  }\n\n  function load_libs(js_urls, callback) {\n    root._bokeh_onload_callbacks.push(callback);\n    if (root._bokeh_is_loading > 0) {\n      console.log(\"Bokeh: BokehJS is being loaded, scheduling callback at\", now());\n      return null;\n    }\n    if (js_urls == null || js_urls.length === 0) {\n      run_callbacks();\n      return null;\n    }\n    console.log(\"Bokeh: BokehJS not loaded, scheduling load and callback at\", now());\n    root._bokeh_is_loading = js_urls.length;\n    for (var i = 0; i < js_urls.length; i++) {\n      var url = js_urls[i];\n      var s = document.createElement('script');\n      s.src = url;\n      s.async = false;\n      s.onreadystatechange = s.onload = function() {\n        root._bokeh_is_loading--;\n        if (root._bokeh_is_loading === 0) {\n          console.log(\"Bokeh: all BokehJS libraries loaded\");\n          run_callbacks()\n        }\n      };\n      s.onerror = function() {\n        console.warn(\"failed to load library \" + url);\n      };\n      console.log(\"Bokeh: injecting script tag for BokehJS library: \", url);\n      document.getElementsByTagName(\"head\")[0].appendChild(s);\n    }\n  };var element = document.getElementById(\"dadd0f3c-c7f9-46be-a24a-835084732eda\");\n  if (element == null) {\n    console.log(\"Bokeh: ERROR: autoload.js configured with elementid 'dadd0f3c-c7f9-46be-a24a-835084732eda' but no matching script tag was found. \")\n    return false;\n  }\n\n  var js_urls = [\"https://cdn.pydata.org/bokeh/release/bokeh-0.12.13.min.js\", \"https://cdn.pydata.org/bokeh/release/bokeh-widgets-0.12.13.min.js\", \"https://cdn.pydata.org/bokeh/release/bokeh-tables-0.12.13.min.js\", \"https://cdn.pydata.org/bokeh/release/bokeh-gl-0.12.13.min.js\"];\n\n  var inline_js = [\n    function(Bokeh) {\n      Bokeh.set_log_level(\"info\");\n    },\n    \n    function(Bokeh) {\n      \n    },\n    function(Bokeh) {\n      console.log(\"Bokeh: injecting CSS: https://cdn.pydata.org/bokeh/release/bokeh-0.12.13.min.css\");\n      Bokeh.embed.inject_css(\"https://cdn.pydata.org/bokeh/release/bokeh-0.12.13.min.css\");\n      console.log(\"Bokeh: injecting CSS: https://cdn.pydata.org/bokeh/release/bokeh-widgets-0.12.13.min.css\");\n      Bokeh.embed.inject_css(\"https://cdn.pydata.org/bokeh/release/bokeh-widgets-0.12.13.min.css\");\n      console.log(\"Bokeh: injecting CSS: https://cdn.pydata.org/bokeh/release/bokeh-tables-0.12.13.min.css\");\n      Bokeh.embed.inject_css(\"https://cdn.pydata.org/bokeh/release/bokeh-tables-0.12.13.min.css\");\n    }\n  ];\n\n  function run_inline_js() {\n    \n    if ((root.Bokeh !== undefined) || (force === true)) {\n      for (var i = 0; i < inline_js.length; i++) {\n        inline_js[i].call(root, root.Bokeh);\n      }if (force === true) {\n        display_loaded();\n      }} else if (Date.now() < root._bokeh_timeout) {\n      setTimeout(run_inline_js, 100);\n    } else if (!root._bokeh_failed_load) {\n      console.log(\"Bokeh: BokehJS failed to load within specified timeout.\");\n      root._bokeh_failed_load = true;\n    } else if (force !== true) {\n      var cell = $(document.getElementById(\"dadd0f3c-c7f9-46be-a24a-835084732eda\")).parents('.cell').data().cell;\n      cell.output_area.append_execute_result(NB_LOAD_WARNING)\n    }\n\n  }\n\n  if (root._bokeh_is_loading === 0) {\n    console.log(\"Bokeh: BokehJS loaded, going straight to plotting\");\n    run_inline_js();\n  } else {\n    load_libs(js_urls, function() {\n      console.log(\"Bokeh: BokehJS plotting callback run at\", now());\n      run_inline_js();\n    });\n  }\n}(window));"
     },
     "metadata": {},
     "output_type": "display_data"
    }
   ],
   "source": [
    "# this program sets up a bokeh application \n",
    "# for the visualization and analysis (Linear Regression, RFE..) of plasmodesma results.\n",
    "import yaml\n",
    "import os\n",
    "from functools import partial\n",
    "from importlib import reload\n",
    "\n",
    "import pandas as pd\n",
    "import numpy as np\n",
    "import matplotlib\n",
    "matplotlib.use('PDF')\n",
    "import matplotlib.pyplot as plt \n",
    "import matplotlib.cm as cm\n",
    "\n",
    "from bokeh.application.handlers import FunctionHandler\n",
    "from bokeh.application import Application\n",
    "from bokeh.io import show, output_notebook, curdoc\n",
    "output_notebook()"
   ]
  },
  {
   "cell_type": "code",
   "execution_count": 2,
   "metadata": {
    "ExecuteTime": {
     "end_time": "2018-11-28T13:31:08.679921Z",
     "start_time": "2018-11-28T13:31:04.329540Z"
    }
   },
   "outputs": [],
   "source": [
    "import Plasmodesma_Utilities_mpl as PU\n",
    "import BucketUtilities_mpl as BU"
   ]
  },
  {
   "cell_type": "markdown",
   "metadata": {},
   "source": [
    "Avec ce set-up, les informations à donner sont bcp plus générales.\n",
    "il trouve les noms tout seul, et les stocke\n",
    "tout est chargé dans une seule structure."
   ]
  },
  {
   "cell_type": "code",
   "execution_count": 3,
   "metadata": {
    "ExecuteTime": {
     "end_time": "2018-11-28T13:31:08.690343Z",
     "start_time": "2018-11-28T13:31:08.681557Z"
    }
   },
   "outputs": [],
   "source": [
    "# CHOOSE PARAMETERS: DATASETS & NETMODE\n",
    "folder = \"SMARTE_v3/Results\" #Folder containing the results of one calculation serie.\n",
    "mode = \"TOCSY\" #4 modes available: HSQC, TOCSY, COSY, DOSY: determines which experiments are loaded\n",
    "data_name = \"SMARTE2_161123\" #name of the csv of the first data to display, here SMARTE2\n",
    "data_name2 = \"SMARTE1_161123\" #name of the csv of the second data to display, here SMARTE5\n",
    "dataref = \"ARTEref_161123\" #name of the reference dataset in the results folder.\n",
    "Sym = True #Symetrize or not.\n",
    "Net = True #Cleaning or not.\n",
    "NETMODE = \"mieux\" #Cleaning mode.\n",
    "#Y = np.array([0.11, 0.98,0, 0, 0, 0.4]) #Activities of the different fractions from SMARTE1 to SMARTE6\n",
    "Y = np.array([0.11, 0.98, 0]) #Activities of the different fractions from SMARTE1 to SMARTE3"
   ]
  },
  {
   "cell_type": "code",
   "execution_count": 4,
   "metadata": {},
   "outputs": [
    {
     "data": {
      "text/plain": [
       "<module 'BucketUtilities_mpl' from '/Users/mad/Documents/ mad/ publi/Faraday/Code/plasmodesma/BucketUtilities_mpl.py'>"
      ]
     },
     "execution_count": 4,
     "metadata": {},
     "output_type": "execute_result"
    }
   ],
   "source": [
    "reload(PU)\n",
    "reload(BU)"
   ]
  },
  {
   "cell_type": "markdown",
   "metadata": {},
   "source": [
    "debug=2 fait que PU.mpl_create_app() s'arrète imprime et retourne la structure créée, on peu ainsi l'explorer."
   ]
  },
  {
   "cell_type": "code",
   "execution_count": 5,
   "metadata": {},
   "outputs": [
    {
     "name": "stdout",
     "output_type": "stream",
     "text": [
      "loaded SMARTE_v3/Results/ARTEref_161123/2D/dipsi2phpr_20_bucketlist.csv\n",
      "   as reference\n",
      "loaded SMARTE_v3/Results/SMARTE1_161123/2D/dipsi2phpr_20_bucketlist.csv\n",
      "   as data2\n",
      "loaded SMARTE_v3/Results/SMARTE2_161123/2D/dipsi2phpr_20_bucketlist.csv\n",
      "   as data1\n",
      "loaded SMARTE_v3/Results/SMARTE3_161123/2D/dipsi2phpr_20_bucketlist.csv\n",
      "[0.11 0.98 0.  ]\n",
      "SMARTE_v3/Results/SMARTE2_161123/2D/dipsi2phpr_20_bucketlist.csv\n",
      "<xarray.DataArray (type: 4, F1: 181, F2: 181)>\n",
      "array([[[1.137563e+08, 6.785638e+07, ..., 1.000000e+00, 1.000000e+00],\n",
      "        [6.785638e+07, 3.630533e+08, ..., 1.000000e+00, 1.000000e+00],\n",
      "        ...,\n",
      "        [1.000000e+00, 1.000000e+00, ..., 1.000000e+00, 3.539890e+06],\n",
      "        [1.000000e+00, 1.000000e+00, ..., 3.539890e+06, 1.701701e+07]],\n",
      "\n",
      "       [[4.726370e+05, 4.238801e+05, ..., 1.000000e+00, 1.000000e+00],\n",
      "        [4.238801e+05, 3.040553e+06, ..., 1.000000e+00, 1.000000e+00],\n",
      "        ...,\n",
      "        [1.000000e+00, 1.000000e+00, ..., 1.000000e+00, 1.000000e+00],\n",
      "        [1.000000e+00, 1.000000e+00, ..., 1.000000e+00, 1.783619e+05]],\n",
      "\n",
      "       [[4.726370e+05, 4.238801e+05, ..., 1.000000e+00, 1.000000e+00],\n",
      "        [4.238801e+05, 3.040553e+06, ..., 1.000000e+00, 1.000000e+00],\n",
      "        ...,\n",
      "        [1.000000e+00, 1.000000e+00, ..., 1.000000e+00, 1.000000e+00],\n",
      "        [1.000000e+00, 1.000000e+00, ..., 1.000000e+00, 1.783619e+05]],\n",
      "\n",
      "       [[9.091800e+04, 7.397900e+04, ..., 1.000000e+00, 1.000000e+00],\n",
      "        [7.397900e+04, 5.199206e+05, ..., 1.000000e+00, 1.000000e+00],\n",
      "        ...,\n",
      "        [1.000000e+00, 1.000000e+00, ..., 1.000000e+00, 1.000000e+00],\n",
      "        [1.000000e+00, 1.000000e+00, ..., 1.000000e+00, 5.524340e+04]]])\n",
      "Coordinates:\n",
      "  * type     (type) object 'bucket' 'max' 'min' 'std'\n",
      "  * F1       (F1) float64 0.5 0.55 0.6 0.65 0.7 0.75 ... 9.3 9.35 9.4 9.45 9.5\n",
      "  * F2       (F2) float64 0.5 0.55 0.6 0.65 0.7 0.75 ... 9.3 9.35 9.4 9.45 9.5\n"
     ]
    }
   ],
   "source": [
    "#   doc, folder, data_name, data_name2, activities, manip_mode='TOCSY', dataref=None,\n",
    "#   netmode='mieux', sym=True,net=True, loadwith=\"PP2D\",nfeatures=100\n",
    "FData = PU.mpl_create_app( None,folder, data_name, data_name2, Y, manip_mode=mode, dataref=dataref, netmode=NETMODE, sym=Sym, net=Net, display=[\"std\"], nfeatures=100, debug=2)"
   ]
  },
  {
   "cell_type": "code",
   "execution_count": 6,
   "metadata": {},
   "outputs": [
    {
     "data": {
      "text/plain": [
       "(3, 32761)"
      ]
     },
     "execution_count": 6,
     "metadata": {},
     "output_type": "execute_result"
    }
   ],
   "source": [
    "FData.X('std').shape"
   ]
  },
  {
   "cell_type": "code",
   "execution_count": 7,
   "metadata": {},
   "outputs": [
    {
     "data": {
      "text/plain": [
       "32761"
      ]
     },
     "execution_count": 7,
     "metadata": {},
     "output_type": "execute_result"
    }
   ],
   "source": [
    "181*181"
   ]
  },
  {
   "cell_type": "code",
   "execution_count": 8,
   "metadata": {},
   "outputs": [
    {
     "data": {
      "text/plain": [
       "<module 'BucketUtilities_mpl' from '/Users/mad/Documents/ mad/ publi/Faraday/Code/plasmodesma/BucketUtilities_mpl.py'>"
      ]
     },
     "execution_count": 8,
     "metadata": {},
     "output_type": "execute_result"
    }
   ],
   "source": [
    "reload(PU)\n",
    "reload(BU)"
   ]
  },
  {
   "cell_type": "code",
   "execution_count": 9,
   "metadata": {},
   "outputs": [],
   "source": [
    "# RUN\n",
    "app_t = partial(PU.mpl_create_app, folder=folder, data_name=data_name, data_name2=data_name2, activities=Y, manip_mode=mode, dataref=dataref, netmode=NETMODE, sym=Sym, net=Net, display=[\"std\"], nfeatures=100, debug=1)\n",
    "# Set up the Application \n",
    "handler = FunctionHandler(app_t)\n",
    "app = Application(handler)"
   ]
  },
  {
   "cell_type": "code",
   "execution_count": 10,
   "metadata": {},
   "outputs": [],
   "source": [
    "# Create the Document\n",
    "# Not strictly necessary, but helps w/ debugging\n",
    "#doc = app.create_document()"
   ]
  },
  {
   "cell_type": "code",
   "execution_count": 11,
   "metadata": {
    "scrolled": false
   },
   "outputs": [
    {
     "data": {
      "application/vnd.bokehjs_exec.v0+json": "",
      "text/html": [
       "\n",
       "<script\n",
       "    src=\"http://localhost:60516/autoload.js?bokeh-autoload-element=893f8cab-df3e-4576-af06-ca3978106135&bokeh-absolute-url=http://localhost:60516\"\n",
       "    id=\"893f8cab-df3e-4576-af06-ca3978106135\"\n",
       "    data-bokeh-model-id=\"\"\n",
       "    data-bokeh-doc-id=\"\"\n",
       "></script>"
      ]
     },
     "metadata": {
      "application/vnd.bokehjs_exec.v0+json": {
       "server_id": "e6b6ce468aba48218dc509a09f3341ed"
      }
     },
     "output_type": "display_data"
    },
    {
     "name": "stdout",
     "output_type": "stream",
     "text": [
      "loaded SMARTE_v3/Results/ARTEref_161123/2D/dipsi2phpr_20_bucketlist.csv\n",
      "   as reference\n",
      "loaded SMARTE_v3/Results/SMARTE1_161123/2D/dipsi2phpr_20_bucketlist.csv\n",
      "   as data2\n",
      "loaded SMARTE_v3/Results/SMARTE2_161123/2D/dipsi2phpr_20_bucketlist.csv\n",
      "   as data1\n",
      "loaded SMARTE_v3/Results/SMARTE3_161123/2D/dipsi2phpr_20_bucketlist.csv\n",
      "[0.11 0.98 0.  ]\n",
      "SMARTE_v3/Results/SMARTE2_161123/2D/dipsi2phpr_20_bucketlist.csv\n",
      "<xarray.DataArray (type: 4, F1: 181, F2: 181)>\n",
      "array([[[1.137563e+08, 6.785638e+07, ..., 1.000000e+00, 1.000000e+00],\n",
      "        [6.785638e+07, 3.630533e+08, ..., 1.000000e+00, 1.000000e+00],\n",
      "        ...,\n",
      "        [1.000000e+00, 1.000000e+00, ..., 1.000000e+00, 3.539890e+06],\n",
      "        [1.000000e+00, 1.000000e+00, ..., 3.539890e+06, 1.701701e+07]],\n",
      "\n",
      "       [[4.726370e+05, 4.238801e+05, ..., 1.000000e+00, 1.000000e+00],\n",
      "        [4.238801e+05, 3.040553e+06, ..., 1.000000e+00, 1.000000e+00],\n",
      "        ...,\n",
      "        [1.000000e+00, 1.000000e+00, ..., 1.000000e+00, 1.000000e+00],\n",
      "        [1.000000e+00, 1.000000e+00, ..., 1.000000e+00, 1.783619e+05]],\n",
      "\n",
      "       [[4.726370e+05, 4.238801e+05, ..., 1.000000e+00, 1.000000e+00],\n",
      "        [4.238801e+05, 3.040553e+06, ..., 1.000000e+00, 1.000000e+00],\n",
      "        ...,\n",
      "        [1.000000e+00, 1.000000e+00, ..., 1.000000e+00, 1.000000e+00],\n",
      "        [1.000000e+00, 1.000000e+00, ..., 1.000000e+00, 1.783619e+05]],\n",
      "\n",
      "       [[9.091800e+04, 7.397900e+04, ..., 1.000000e+00, 1.000000e+00],\n",
      "        [7.397900e+04, 5.199206e+05, ..., 1.000000e+00, 1.000000e+00],\n",
      "        ...,\n",
      "        [1.000000e+00, 1.000000e+00, ..., 1.000000e+00, 1.000000e+00],\n",
      "        [1.000000e+00, 1.000000e+00, ..., 1.000000e+00, 5.524340e+04]]])\n",
      "Coordinates:\n",
      "  * type     (type) object 'bucket' 'max' 'min' 'std'\n",
      "  * F1       (F1) float64 0.5 0.55 0.6 0.65 0.7 0.75 ... 9.3 9.35 9.4 9.45 9.5\n",
      "  * F2       (F2) float64 0.5 0.55 0.6 0.65 0.7 0.75 ... 9.3 9.35 9.4 9.45 9.5\n",
      "plot for SMARTE2_161123 std\n",
      "plot for SMARTE1_161123 std\n",
      "plot for Ratio std\n",
      "plot for Difference std\n"
     ]
    },
    {
     "name": "stderr",
     "output_type": "stream",
     "text": [
      "/Users/mad/Documents/ mad/ publi/Faraday/Code/plasmodesma/Plasmodesma_Utilities_mpl.py:28: RuntimeWarning: divide by zero encountered in arctanh\n",
      "  val = B + A*np.arctanh(2*x-1)\n",
      "/Users/mad/Documents/ mad/ publi/Faraday/Code/plasmodesma/Plasmodesma_Utilities_mpl.py:28: RuntimeWarning: divide by zero encountered in arctanh\n",
      "  val = B + A*np.arctanh(2*x-1)\n"
     ]
    },
    {
     "name": "stdout",
     "output_type": "stream",
     "text": [
      "et voila\n"
     ]
    }
   ],
   "source": [
    "show(app_t)"
   ]
  },
  {
   "cell_type": "markdown",
   "metadata": {},
   "source": [
    "il reste à faire Analysis plot..."
   ]
  },
  {
   "cell_type": "code",
   "execution_count": null,
   "metadata": {},
   "outputs": [],
   "source": []
  }
 ],
 "metadata": {
  "kernelspec": {
   "display_name": "Python 3",
   "language": "python",
   "name": "python3"
  },
  "language_info": {
   "codemirror_mode": {
    "name": "ipython",
    "version": 3
   },
   "file_extension": ".py",
   "mimetype": "text/x-python",
   "name": "python",
   "nbconvert_exporter": "python",
   "pygments_lexer": "ipython3",
   "version": "3.6.4"
  },
  "varInspector": {
   "cols": {
    "lenName": 16,
    "lenType": 16,
    "lenVar": 40
   },
   "kernels_config": {
    "python": {
     "delete_cmd_postfix": "",
     "delete_cmd_prefix": "del ",
     "library": "var_list.py",
     "varRefreshCmd": "print(var_dic_list())"
    },
    "r": {
     "delete_cmd_postfix": ") ",
     "delete_cmd_prefix": "rm(",
     "library": "var_list.r",
     "varRefreshCmd": "cat(var_dic_list()) "
    }
   },
   "oldHeight": 618,
   "position": {
    "height": "40px",
    "left": "2018px",
    "right": "20px",
    "top": "122px",
    "width": "331px"
   },
   "types_to_exclude": [
    "module",
    "function",
    "builtin_function_or_method",
    "instance",
    "_Feature"
   ],
   "varInspector_section_display": "none",
   "window_display": false
  }
 },
 "nbformat": 4,
 "nbformat_minor": 2
}
